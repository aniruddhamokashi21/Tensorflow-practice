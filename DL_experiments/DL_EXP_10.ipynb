{
  "nbformat": 4,
  "nbformat_minor": 0,
  "metadata": {
    "colab": {
      "provenance": []
    },
    "kernelspec": {
      "name": "python3",
      "display_name": "Python 3"
    },
    "language_info": {
      "name": "python"
    }
  },
  "cells": [
    {
      "cell_type": "code",
      "execution_count": null,
      "metadata": {
        "id": "qOJNFj-YRNog"
      },
      "outputs": [],
      "source": [
        "import numpy as np\n",
        "from keras.models import Sequential\n",
        "from keras.preprocessing import sequence\n",
        "from keras.layers import Dropout\n",
        "from keras.layers import Dense, Embedding, LSTM, Bidirectional"
      ]
    },
    {
      "cell_type": "code",
      "source": [
        "from keras.datasets import imdb\n",
        "(x_train, y_train),(x_test, y_test) = imdb.load_data(num_words=10000)"
      ],
      "metadata": {
        "colab": {
          "base_uri": "https://localhost:8080/"
        },
        "id": "jvJTCtZnSmzY",
        "outputId": "e6d29985-2c02-4a0b-9ef6-fdea5401ab0e"
      },
      "execution_count": null,
      "outputs": [
        {
          "output_type": "stream",
          "name": "stdout",
          "text": [
            "Downloading data from https://storage.googleapis.com/tensorflow/tf-keras-datasets/imdb.npz\n",
            "17464789/17464789 [==============================] - 0s 0us/step\n"
          ]
        }
      ]
    },
    {
      "cell_type": "code",
      "source": [
        "max_len = 200\n",
        "x_train = sequence.pad_sequences(x_train, maxlen=max_len)\n",
        "x_test = sequence.pad_sequences(x_test, maxlen=max_len)\n",
        "y_test = np.array(y_test)\n",
        "y_train = np.array(y_train)"
      ],
      "metadata": {
        "id": "n_ghByMbSx-s"
      },
      "execution_count": null,
      "outputs": []
    },
    {
      "cell_type": "code",
      "source": [
        "n_unique_words = 10000 # cut texts after this number of words\n",
        "maxlen = 200\n",
        "batch_size = 128"
      ],
      "metadata": {
        "id": "arnVHkhSS1Nf"
      },
      "execution_count": null,
      "outputs": []
    },
    {
      "cell_type": "code",
      "source": [
        "model = Sequential()\n",
        "model.add(Embedding(n_unique_words, 128, input_length=maxlen))\n",
        "model.add(Bidirectional(LSTM(64)))\n",
        "model.add(Dropout(0.5))\n",
        "model.add(Dense(1, activation='sigmoid'))\n",
        "model.compile(loss='binary_crossentropy', optimizer='adam',\n",
        "              metrics=['accuracy'])"
      ],
      "metadata": {
        "id": "OZkKXQmjS6pH"
      },
      "execution_count": null,
      "outputs": []
    },
    {
      "cell_type": "code",
      "source": [
        "history=model.fit(x_train, y_train,\n",
        "batch_size=batch_size,\n",
        "epochs=5,\n",
        "validation_data=[x_test, y_test])"
      ],
      "metadata": {
        "colab": {
          "base_uri": "https://localhost:8080/"
        },
        "id": "0_clzfC3S9CB",
        "outputId": "53b207e1-8109-42c6-d330-d6ad507c9231"
      },
      "execution_count": null,
      "outputs": [
        {
          "output_type": "stream",
          "name": "stdout",
          "text": [
            "Epoch 1/5\n",
            "196/196 [==============================] - 277s 1s/step - loss: 0.4468 - accuracy: 0.7826 - val_loss: 0.3068 - val_accuracy: 0.8687\n",
            "Epoch 2/5\n",
            "196/196 [==============================] - 256s 1s/step - loss: 0.2381 - accuracy: 0.9095 - val_loss: 0.3002 - val_accuracy: 0.8746\n",
            "Epoch 3/5\n",
            "196/196 [==============================] - 257s 1s/step - loss: 0.1782 - accuracy: 0.9362 - val_loss: 0.3423 - val_accuracy: 0.8708\n",
            "Epoch 4/5\n",
            "196/196 [==============================] - 257s 1s/step - loss: 0.1453 - accuracy: 0.9487 - val_loss: 0.3695 - val_accuracy: 0.8602\n",
            "Epoch 5/5\n",
            "196/196 [==============================] - 256s 1s/step - loss: 0.1116 - accuracy: 0.9616 - val_loss: 0.4446 - val_accuracy: 0.8618\n",
            "[0.44681164622306824, 0.23812785744667053, 0.1782231479883194, 0.14525753259658813, 0.11156187206506729]\n",
            "[0.7825599908828735, 0.9095199704170227, 0.936240017414093, 0.9487199783325195, 0.9616400003433228]\n"
          ]
        }
      ]
    },
    {
      "cell_type": "code",
      "source": [
        "print(history.history['loss'])\n",
        "print(history.history['accuracy'])"
      ],
      "metadata": {
        "id": "fvY6GikdYSrn",
        "outputId": "c2c4d281-720b-4aa8-8f91-8883e27a2d4e",
        "colab": {
          "base_uri": "https://localhost:8080/"
        }
      },
      "execution_count": null,
      "outputs": [
        {
          "output_type": "stream",
          "name": "stdout",
          "text": [
            "[0.44681164622306824, 0.23812785744667053, 0.1782231479883194, 0.14525753259658813, 0.11156187206506729]\n",
            "[0.7825599908828735, 0.9095199704170227, 0.936240017414093, 0.9487199783325195, 0.9616400003433228]\n"
          ]
        }
      ]
    },
    {
      "cell_type": "code",
      "source": [
        "from matplotlib import pyplot\n",
        "pyplot.plot(history.history['loss'])\n",
        "pyplot.plot(history.history['accuracy'])\n",
        "pyplot.title('model loss vs accuracy')\n",
        "pyplot.xlabel('epoch')\n",
        "pyplot.legend(['loss', 'accuracy'], loc='upper right')\n",
        "pyplot.show()"
      ],
      "metadata": {
        "colab": {
          "base_uri": "https://localhost:8080/",
          "height": 472
        },
        "id": "lvQ_qVl7TBM7",
        "outputId": "36eca6f7-77da-43dc-e702-61e1a563ad99"
      },
      "execution_count": null,
      "outputs": [
        {
          "output_type": "display_data",
          "data": {
            "text/plain": [
              "<Figure size 640x480 with 1 Axes>"
            ],
            "image/png": "[encoded data removed]"
          },
          "metadata": {}
        }
      ]
    }
  ]
}