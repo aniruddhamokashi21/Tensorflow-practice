{
  "nbformat": 4,
  "nbformat_minor": 0,
  "metadata": {
    "colab": {
      "provenance": []
    },
    "kernelspec": {
      "name": "python3",
      "display_name": "Python 3"
    },
    "language_info": {
      "name": "python"
    }
  },
  "cells": [
    {
      "cell_type": "markdown",
      "source": [
        "**Design and implement a fully connected deep neural network with at least 2 hidden layers for a classification application. Use appropriate Learning Algorithm, output function and loss function.**"
      ],
      "metadata": {
        "id": "Klp0oRDj_xBn"
      }
    },
    {
      "cell_type": "code",
      "execution_count": null,
      "metadata": {
        "id": "A4EvV8kt_QxF",
        "colab": {
          "base_uri": "https://localhost:8080/"
        },
        "outputId": "38240bb9-f3b7-4774-8424-92c285a921d2"
      },
      "outputs": [
        {
          "output_type": "stream",
          "name": "stdout",
          "text": [
            "4/4 [==============================] - 0s 5ms/step\n",
            ">0.840\n",
            "4/4 [==============================] - 0s 5ms/step\n",
            ">0.810\n",
            "4/4 [==============================] - 0s 5ms/step\n",
            ">0.880\n",
            "4/4 [==============================] - 0s 3ms/step\n",
            ">0.800\n",
            "4/4 [==============================] - 0s 4ms/step\n",
            ">0.840\n",
            "4/4 [==============================] - 0s 3ms/step\n",
            ">0.830\n",
            "4/4 [==============================] - 0s 4ms/step\n",
            ">0.760\n",
            "4/4 [==============================] - 0s 4ms/step\n",
            ">0.800\n",
            "4/4 [==============================] - 0s 4ms/step\n",
            ">0.760\n",
            "4/4 [==============================] - 0s 3ms/step\n",
            ">0.700\n",
            "4/4 [==============================] - 0s 7ms/step\n",
            ">0.860\n",
            "4/4 [==============================] - 0s 3ms/step\n",
            ">0.790\n",
            "4/4 [==============================] - 0s 3ms/step\n",
            ">0.840\n",
            "4/4 [==============================] - 0s 3ms/step\n",
            ">0.800\n",
            "4/4 [==============================] - 0s 4ms/step\n",
            ">0.760\n",
            "4/4 [==============================] - 0s 3ms/step\n",
            ">0.760\n",
            "4/4 [==============================] - 0s 3ms/step\n",
            ">0.800\n",
            "4/4 [==============================] - 0s 3ms/step\n",
            ">0.840\n",
            "4/4 [==============================] - 0s 5ms/step\n",
            ">0.780\n",
            "4/4 [==============================] - 0s 3ms/step\n",
            ">0.820\n",
            "4/4 [==============================] - 0s 4ms/step\n",
            ">0.800\n",
            "4/4 [==============================] - 0s 7ms/step\n",
            ">0.840\n",
            "4/4 [==============================] - 0s 4ms/step\n",
            ">0.730\n",
            "4/4 [==============================] - 0s 3ms/step\n",
            ">0.800\n",
            "4/4 [==============================] - 0s 4ms/step\n",
            ">0.820\n",
            "4/4 [==============================] - 0s 4ms/step\n",
            ">0.820\n",
            "4/4 [==============================] - 0s 5ms/step\n",
            ">0.840\n",
            "4/4 [==============================] - 0s 5ms/step\n",
            ">0.770\n",
            "4/4 [==============================] - 0s 3ms/step\n",
            ">0.810\n",
            "4/4 [==============================] - 0s 3ms/step\n",
            ">0.810\n",
            "Accuracy: 0.804 (0.038)\n"
          ]
        }
      ],
      "source": [
        "from numpy import mean\n",
        "from numpy import std\n",
        "from sklearn.datasets import make_multilabel_classification\n",
        "from sklearn.model_selection import RepeatedKFold\n",
        "from keras.models import Sequential\n",
        "from keras.layers import Dense\n",
        "from sklearn.metrics import accuracy_score\n",
        "\n",
        "# get the dataset\n",
        "def get_dataset():\n",
        "    X, y = make_multilabel_classification(n_samples=1000, n_features=10, n_classes=3, n_labels=2, random_state=1)\n",
        "    return X, y\n",
        "\n",
        "# get the model\n",
        "def get_model(n_inputs, n_outputs):\n",
        "    model = Sequential()\n",
        "    model.add(Dense(20, input_dim=n_inputs, kernel_initializer='he_uniform', activation='relu'))\n",
        "    model.add(Dense(n_outputs, activation='sigmoid'))\n",
        "    model.compile(loss='binary_crossentropy', optimizer='adam')\n",
        "    return model\n",
        "\n",
        "# evaluate a model using repeated k-fold cross-validation\n",
        "def evaluate_model(X, y):\n",
        "    results = list()\n",
        "    n_inputs, n_outputs = X.shape[1], y.shape[1]\n",
        "    # define evaluation procedure\n",
        "    cv = RepeatedKFold(n_splits=10, n_repeats=3, random_state=1)\n",
        "    # enumerate folds\n",
        "    for train_ix, test_ix in cv.split(X):\n",
        "        # prepare data\n",
        "        X_train, X_test = X[train_ix], X[test_ix]\n",
        "        y_train, y_test = y[train_ix], y[test_ix]\n",
        "        # define model\n",
        "        model = get_model(n_inputs, n_outputs)\n",
        "        # fit model\n",
        "        model.fit(X_train, y_train, verbose=0, epochs=100)\n",
        "        # make a prediction on the test set\n",
        "        yhat = model.predict(X_test)\n",
        "        # round probabilities to class labels\n",
        "        yhat = yhat.round()\n",
        "        # calculate accuracy\n",
        "        acc = accuracy_score(y_test, yhat)\n",
        "        # store result\n",
        "        print('>%.3f' % acc)\n",
        "        results.append(acc)\n",
        "    return results\n",
        "\n",
        "# load dataset\n",
        "X, y = get_dataset()\n",
        "# evaluate model\n",
        "results = evaluate_model(X, y)\n",
        "# summarize performance\n",
        "print('Accuracy: %.3f (%.3f)' % (mean(results), std(results)))"
      ]
    }
  ]
}