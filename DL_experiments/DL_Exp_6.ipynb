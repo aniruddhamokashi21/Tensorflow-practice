{
  "nbformat": 4,
  "nbformat_minor": 0,
  "metadata": {
    "colab": {
      "provenance": []
    },
    "kernelspec": {
      "name": "python3",
      "display_name": "Python 3"
    },
    "language_info": {
      "name": "python"
    }
  },
  "cells": [
    {
      "cell_type": "markdown",
      "source": [
        "**Design the architecture and implement the autoencoder model for Image Compression.**"
      ],
      "metadata": {
        "id": "AGcZ-4AkArrp"
      }
    },
    {
      "cell_type": "code",
      "source": [
        "import tensorflow.keras.layers\n",
        "import tensorflow.keras.models\n",
        "import tensorflow.keras.optimizers\n",
        "import tensorflow.keras.datasets\n",
        "import numpy\n",
        "import matplotlib.pyplot"
      ],
      "metadata": {
        "id": "znpdWJl3WGjA"
      },
      "execution_count": null,
      "outputs": []
    },
    {
      "cell_type": "markdown",
      "source": [
        "Encoder"
      ],
      "metadata": {
        "id": "l7cJ7RhqBKDI"
      }
    },
    {
      "cell_type": "code",
      "source": [
        "x = tensorflow.keras.layers.Input(shape=(784), name=\"encoder_input\")\n",
        "\n",
        "encoder_dense_layer1 = tensorflow.keras.layers.Dense(units=300, name=\"encoder_dense_1\")(x)\n",
        "encoder_activ_layer1 = tensorflow.keras.layers.LeakyReLU(name=\"encoder_leakyrelu_1\")(encoder_dense_layer1)\n",
        "\n",
        "encoder_dense_layer2 = tensorflow.keras.layers.Dense(units=2, name=\"encoder_dense_2\")(encoder_activ_layer1)\n",
        "encoder_output = tensorflow.keras.layers.LeakyReLU(name=\"encoder_output\")(encoder_dense_layer2)"
      ],
      "metadata": {
        "id": "NraPwpVOWNa2"
      },
      "execution_count": null,
      "outputs": []
    },
    {
      "cell_type": "code",
      "source": [
        "encoder = tensorflow.keras.models.Model(x, encoder_output, name=\"encoder_model\")"
      ],
      "metadata": {
        "id": "AIwXOkniWRAp"
      },
      "execution_count": null,
      "outputs": []
    },
    {
      "cell_type": "code",
      "source": [
        "encoder.summary()"
      ],
      "metadata": {
        "colab": {
          "base_uri": "https://localhost:8080/"
        },
        "id": "WifHAG-rWU10",
        "outputId": "a16f2967-0ace-4099-9473-2121c379cc7d"
      },
      "execution_count": null,
      "outputs": [
        {
          "output_type": "stream",
          "name": "stdout",
          "text": [
            "Model: \"encoder_model\"\n",
            "_________________________________________________________________\n",
            " Layer (type)                Output Shape              Param #   \n",
            "=================================================================\n",
            " encoder_input (InputLayer)  [(None, 784)]             0         \n",
            "                                                                 \n",
            " encoder_dense_1 (Dense)     (None, 300)               235500    \n",
            "                                                                 \n",
            " encoder_leakyrelu_1 (Leaky  (None, 300)               0         \n",
            " ReLU)                                                           \n",
            "                                                                 \n",
            " encoder_dense_2 (Dense)     (None, 2)                 602       \n",
            "                                                                 \n",
            " encoder_output (LeakyReLU)  (None, 2)                 0         \n",
            "                                                                 \n",
            "=================================================================\n",
            "Total params: 236102 (922.27 KB)\n",
            "Trainable params: 236102 (922.27 KB)\n",
            "Non-trainable params: 0 (0.00 Byte)\n",
            "_________________________________________________________________\n"
          ]
        }
      ]
    },
    {
      "cell_type": "markdown",
      "source": [
        "Decoder"
      ],
      "metadata": {
        "id": "IV7V0f7lWY7p"
      }
    },
    {
      "cell_type": "code",
      "source": [
        "# Decoder\n",
        "decoder_input = tensorflow.keras.layers.Input(shape=(2), name=\"decoder_input\")\n",
        "\n",
        "decoder_dense_layer1 = tensorflow.keras.layers.Dense(units=300, name=\"decoder_dense_1\")(decoder_input)\n",
        "decoder_activ_layer1 = tensorflow.keras.layers.LeakyReLU(name=\"decoder_leakyrelu_1\")(decoder_dense_layer1)\n",
        "\n",
        "decoder_dense_layer2 = tensorflow.keras.layers.Dense(units=784, name=\"decoder_dense_2\")(decoder_activ_layer1)\n",
        "decoder_output = tensorflow.keras.layers.LeakyReLU(name=\"decoder_output\")(decoder_dense_layer2)"
      ],
      "metadata": {
        "id": "iSAKbFX0WbRq"
      },
      "execution_count": null,
      "outputs": []
    },
    {
      "cell_type": "code",
      "source": [
        "decoder = tensorflow.keras.models.Model(decoder_input, decoder_output, name=\"decoder_model\")"
      ],
      "metadata": {
        "id": "EHxtiGjfWflb"
      },
      "execution_count": null,
      "outputs": []
    },
    {
      "cell_type": "code",
      "source": [
        "decoder.summary()"
      ],
      "metadata": {
        "colab": {
          "base_uri": "https://localhost:8080/"
        },
        "id": "CpsmIVTrWjCN",
        "outputId": "c094bdfd-e74e-43ca-85a5-a0d00c426afb"
      },
      "execution_count": null,
      "outputs": [
        {
          "output_type": "stream",
          "name": "stdout",
          "text": [
            "Model: \"decoder_model\"\n",
            "_________________________________________________________________\n",
            " Layer (type)                Output Shape              Param #   \n",
            "=================================================================\n",
            " decoder_input (InputLayer)  [(None, 2)]               0         \n",
            "                                                                 \n",
            " decoder_dense_1 (Dense)     (None, 300)               900       \n",
            "                                                                 \n",
            " decoder_leakyrelu_1 (Leaky  (None, 300)               0         \n",
            " ReLU)                                                           \n",
            "                                                                 \n",
            " decoder_dense_2 (Dense)     (None, 784)               235984    \n",
            "                                                                 \n",
            " decoder_output (LeakyReLU)  (None, 784)               0         \n",
            "                                                                 \n",
            "=================================================================\n",
            "Total params: 236884 (925.33 KB)\n",
            "Trainable params: 236884 (925.33 KB)\n",
            "Non-trainable params: 0 (0.00 Byte)\n",
            "_________________________________________________________________\n"
          ]
        }
      ]
    },
    {
      "cell_type": "markdown",
      "source": [
        "Autoencoder"
      ],
      "metadata": {
        "id": "-0QHL_mPWl07"
      }
    },
    {
      "cell_type": "code",
      "source": [
        "ae_input = tensorflow.keras.layers.Input(shape=(784), name=\"AE_input\")\n",
        "ae_encoder_output = encoder(ae_input)\n",
        "ae_decoder_output = decoder(ae_encoder_output)"
      ],
      "metadata": {
        "id": "Vsjl89sxWmNU"
      },
      "execution_count": null,
      "outputs": []
    },
    {
      "cell_type": "code",
      "source": [
        "ae = tensorflow.keras.models.Model(ae_input, ae_decoder_output, name=\"AE\")"
      ],
      "metadata": {
        "id": "brSxmrBHWnpp"
      },
      "execution_count": null,
      "outputs": []
    },
    {
      "cell_type": "code",
      "source": [
        "ae.summary()"
      ],
      "metadata": {
        "colab": {
          "base_uri": "https://localhost:8080/"
        },
        "id": "5Fevb5jBWtGV",
        "outputId": "6c6839e0-d056-45b7-9fb1-8c7c513fb830"
      },
      "execution_count": null,
      "outputs": [
        {
          "output_type": "stream",
          "name": "stdout",
          "text": [
            "Model: \"AE\"\n",
            "_________________________________________________________________\n",
            " Layer (type)                Output Shape              Param #   \n",
            "=================================================================\n",
            " AE_input (InputLayer)       [(None, 784)]             0         \n",
            "                                                                 \n",
            " encoder_model (Functional)  (None, 2)                 236102    \n",
            "                                                                 \n",
            " decoder_model (Functional)  (None, 784)               236884    \n",
            "                                                                 \n",
            "=================================================================\n",
            "Total params: 472986 (1.80 MB)\n",
            "Trainable params: 472986 (1.80 MB)\n",
            "Non-trainable params: 0 (0.00 Byte)\n",
            "_________________________________________________________________\n"
          ]
        }
      ]
    },
    {
      "cell_type": "code",
      "source": [
        "# RMSE\n",
        "def rmse(y_true, y_predict):\n",
        "    return tensorflow.keras.backend.mean(tensorflow.keras.backend.square(y_true-y_predict))\n",
        "\n",
        "# AE Compilation\n",
        "ae.compile(loss=\"mse\", optimizer=tensorflow.keras.optimizers.Adam(learning_rate=0.0005))"
      ],
      "metadata": {
        "id": "VcKg_flCWz-7"
      },
      "execution_count": null,
      "outputs": []
    },
    {
      "cell_type": "markdown",
      "source": [
        "MNIST dataset"
      ],
      "metadata": {
        "id": "Sx7jftZ6XALx"
      }
    },
    {
      "cell_type": "code",
      "source": [
        "(x_train_orig, y_train), (x_test_orig, y_test) = tensorflow.keras.datasets.mnist.load_data()\n",
        "x_train_orig = x_train_orig.astype(\"float32\") / 255.0\n",
        "x_test_orig = x_test_orig.astype(\"float32\") / 255.0\n",
        "\n",
        "x_train = numpy.reshape(x_train_orig, newshape=(x_train_orig.shape[0], numpy.prod(x_train_orig.shape[1:])))\n",
        "x_test = numpy.reshape(x_test_orig, newshape=(x_test_orig.shape[0], numpy.prod(x_test_orig.shape[1:])))"
      ],
      "metadata": {
        "id": "_kU8JkufW86y",
        "colab": {
          "base_uri": "https://localhost:8080/"
        },
        "outputId": "66c64815-d5a4-42b2-c554-1766cee08b33"
      },
      "execution_count": null,
      "outputs": [
        {
          "output_type": "stream",
          "name": "stdout",
          "text": [
            "Downloading data from https://storage.googleapis.com/tensorflow/tf-keras-datasets/mnist.npz\n",
            "11490434/11490434 [==============================] - 0s 0us/step\n"
          ]
        }
      ]
    },
    {
      "cell_type": "code",
      "source": [
        "ae.fit(x_train, x_train, epochs=20, batch_size=256, shuffle=True, validation_data=(x_test, x_test))\n",
        "\n",
        "encoded_images = encoder.predict(x_train)\n",
        "decoded_images = decoder.predict(encoded_images)\n",
        "decoded_images_orig = numpy.reshape(decoded_images, newshape=(decoded_images.shape[0], 28, 28))"
      ],
      "metadata": {
        "colab": {
          "base_uri": "https://localhost:8080/"
        },
        "id": "Y4oLFLcIW-h3",
        "outputId": "82fbb6b0-d28d-4242-917a-42e7f893c47b"
      },
      "execution_count": null,
      "outputs": [
        {
          "output_type": "stream",
          "name": "stdout",
          "text": [
            "Epoch 1/20\n",
            "235/235 [==============================] - 4s 13ms/step - loss: 0.0607 - val_loss: 0.0558\n",
            "Epoch 2/20\n",
            "235/235 [==============================] - 3s 13ms/step - loss: 0.0546 - val_loss: 0.0537\n",
            "Epoch 3/20\n",
            "235/235 [==============================] - 3s 15ms/step - loss: 0.0530 - val_loss: 0.0524\n",
            "Epoch 4/20\n",
            "235/235 [==============================] - 3s 13ms/step - loss: 0.0519 - val_loss: 0.0514\n",
            "Epoch 5/20\n",
            "235/235 [==============================] - 3s 13ms/step - loss: 0.0510 - val_loss: 0.0506\n",
            "Epoch 6/20\n",
            "235/235 [==============================] - 3s 14ms/step - loss: 0.0498 - val_loss: 0.0492\n",
            "Epoch 7/20\n",
            "235/235 [==============================] - 3s 14ms/step - loss: 0.0485 - val_loss: 0.0480\n",
            "Epoch 8/20\n",
            "235/235 [==============================] - 3s 13ms/step - loss: 0.0476 - val_loss: 0.0473\n",
            "Epoch 9/20\n",
            "235/235 [==============================] - 3s 13ms/step - loss: 0.0470 - val_loss: 0.0469\n",
            "Epoch 10/20\n",
            "235/235 [==============================] - 3s 14ms/step - loss: 0.0466 - val_loss: 0.0466\n",
            "Epoch 11/20\n",
            "235/235 [==============================] - 3s 13ms/step - loss: 0.0463 - val_loss: 0.0463\n",
            "Epoch 12/20\n",
            "235/235 [==============================] - 3s 13ms/step - loss: 0.0461 - val_loss: 0.0461\n",
            "Epoch 13/20\n",
            "235/235 [==============================] - 3s 13ms/step - loss: 0.0458 - val_loss: 0.0459\n",
            "Epoch 14/20\n",
            "235/235 [==============================] - 3s 15ms/step - loss: 0.0456 - val_loss: 0.0457\n",
            "Epoch 15/20\n",
            "235/235 [==============================] - 3s 13ms/step - loss: 0.0454 - val_loss: 0.0455\n",
            "Epoch 16/20\n",
            "235/235 [==============================] - 3s 13ms/step - loss: 0.0453 - val_loss: 0.0454\n",
            "Epoch 17/20\n",
            "235/235 [==============================] - 3s 12ms/step - loss: 0.0451 - val_loss: 0.0452\n",
            "Epoch 18/20\n",
            "235/235 [==============================] - 4s 15ms/step - loss: 0.0450 - val_loss: 0.0451\n",
            "Epoch 19/20\n",
            "235/235 [==============================] - 3s 13ms/step - loss: 0.0448 - val_loss: 0.0450\n",
            "Epoch 20/20\n",
            "235/235 [==============================] - 3s 13ms/step - loss: 0.0446 - val_loss: 0.0449\n",
            "1875/1875 [==============================] - 2s 1ms/step\n",
            "1875/1875 [==============================] - 2s 1ms/step\n"
          ]
        }
      ]
    },
    {
      "cell_type": "code",
      "source": [
        "num_images_to_show = 1\n",
        "for im_ind in range(num_images_to_show):\n",
        "    plot_ind = im_ind*2 + 1\n",
        "    rand_ind = numpy.random.randint(low=0, high=x_train.shape[0])\n",
        "    matplotlib.pyplot.subplot(num_images_to_show, 2, plot_ind)\n",
        "    matplotlib.pyplot.imshow(x_train_orig[rand_ind, :, :], cmap=\"gray\")\n",
        "    matplotlib.pyplot.subplot(num_images_to_show, 2, plot_ind+1)\n",
        "    matplotlib.pyplot.imshow(decoded_images_orig[rand_ind, :, :], cmap=\"gray\")"
      ],
      "metadata": {
        "id": "5mUpgjGAYDsT",
        "colab": {
          "base_uri": "https://localhost:8080/",
          "height": 287
        },
        "outputId": "693ac808-23bf-4a5b-cea9-f63137d34de5"
      },
      "execution_count": null,
      "outputs": [
        {
          "output_type": "display_data",
          "data": {
            "text/plain": [
              "<Figure size 640x480 with 2 Axes>"
            ],
            "image/png": "[encoded data removed]"
          },
          "metadata": {}
        }
      ]
    }
  ]
}