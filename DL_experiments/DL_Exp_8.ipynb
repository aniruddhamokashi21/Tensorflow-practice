{
  "nbformat": 4,
  "nbformat_minor": 0,
  "metadata": {
    "colab": {
      "provenance": []
    },
    "kernelspec": {
      "name": "python3",
      "display_name": "Python 3"
    },
    "language_info": {
      "name": "python"
    }
  },
  "cells": [
    {
      "cell_type": "markdown",
      "source": [
        "**Design and implement a CNN model for image classification.**"
      ],
      "metadata": {
        "id": "tO6RKYIfajWX"
      }
    },
    {
      "cell_type": "code",
      "execution_count": null,
      "metadata": {
        "id": "v82qcE9L_MKS"
      },
      "outputs": [],
      "source": [
        "import tensorflow as tf\n",
        "\n",
        "from tensorflow.keras import datasets, layers, models\n",
        "import matplotlib.pyplot as plt"
      ]
    },
    {
      "cell_type": "code",
      "source": [
        "(train_images, train_labels), (test_images, test_labels) = datasets.cifar10.load_data()\n",
        "\n",
        "# Normalize pixel values to be between 0 and 1\n",
        "train_images, test_images = train_images / 255.0, test_images / 255.0"
      ],
      "metadata": {
        "colab": {
          "base_uri": "https://localhost:8080/"
        },
        "id": "PSxnjMKvduYO",
        "outputId": "46973896-ca18-4219-efcc-efe340145457"
      },
      "execution_count": null,
      "outputs": [
        {
          "output_type": "stream",
          "name": "stdout",
          "text": [
            "Downloading data from https://www.cs.toronto.edu/~kriz/cifar-10-python.tar.gz\n",
            "170498071/170498071 [==============================] - 2s 0us/step\n"
          ]
        }
      ]
    },
    {
      "cell_type": "code",
      "source": [
        "class_names = ['airplane', 'automobile', 'bird', 'cat', 'deer',\n",
        "               'dog', 'frog', 'horse', 'ship', 'truck']"
      ],
      "metadata": {
        "id": "iuljYRXpd160"
      },
      "execution_count": null,
      "outputs": []
    },
    {
      "cell_type": "markdown",
      "source": [
        "CNN model"
      ],
      "metadata": {
        "id": "zx48bg3Gd9gp"
      }
    },
    {
      "cell_type": "code",
      "source": [
        "model = models.Sequential()\n",
        "model.add(layers.Conv2D(32, (3, 3), activation='relu', input_shape=(32, 32, 3)))\n",
        "model.add(layers.MaxPooling2D((2, 2)))\n",
        "model.add(layers.Conv2D(64, (3, 3), activation='relu'))\n",
        "model.add(layers.MaxPooling2D((2, 2)))\n",
        "model.add(layers.Conv2D(64, (3, 3), activation='relu'))\n",
        "model.add(layers.Flatten())\n",
        "model.add(layers.Dense(64, activation='relu'))\n",
        "model.add(layers.Dense(10))"
      ],
      "metadata": {
        "id": "_x2bQIGnd5Nv"
      },
      "execution_count": null,
      "outputs": []
    },
    {
      "cell_type": "code",
      "source": [
        "model.summary()"
      ],
      "metadata": {
        "colab": {
          "base_uri": "https://localhost:8080/"
        },
        "id": "rVgxXm15eDxq",
        "outputId": "21b6cea3-6d3e-4bac-9a2c-d2dcd204b4fa"
      },
      "execution_count": null,
      "outputs": [
        {
          "output_type": "stream",
          "name": "stdout",
          "text": [
            "Model: \"sequential\"\n",
            "_________________________________________________________________\n",
            " Layer (type)                Output Shape              Param #   \n",
            "=================================================================\n",
            " conv2d (Conv2D)             (None, 30, 30, 32)        896       \n",
            "                                                                 \n",
            " max_pooling2d (MaxPooling2  (None, 15, 15, 32)        0         \n",
            " D)                                                              \n",
            "                                                                 \n",
            " conv2d_1 (Conv2D)           (None, 13, 13, 64)        18496     \n",
            "                                                                 \n",
            " max_pooling2d_1 (MaxPoolin  (None, 6, 6, 64)          0         \n",
            " g2D)                                                            \n",
            "                                                                 \n",
            " conv2d_2 (Conv2D)           (None, 4, 4, 64)          36928     \n",
            "                                                                 \n",
            " flatten (Flatten)           (None, 1024)              0         \n",
            "                                                                 \n",
            " dense (Dense)               (None, 64)                65600     \n",
            "                                                                 \n",
            " dense_1 (Dense)             (None, 10)                650       \n",
            "                                                                 \n",
            "=================================================================\n",
            "Total params: 122570 (478.79 KB)\n",
            "Trainable params: 122570 (478.79 KB)\n",
            "Non-trainable params: 0 (0.00 Byte)\n",
            "_________________________________________________________________\n"
          ]
        }
      ]
    },
    {
      "cell_type": "code",
      "source": [
        "model.compile(optimizer='adam',\n",
        "              loss=tf.keras.losses.SparseCategoricalCrossentropy(from_logits=True),\n",
        "              metrics=['accuracy'])\n",
        "\n",
        "history = model.fit(train_images, train_labels, epochs=10,\n",
        "                    validation_data=(test_images, test_labels))"
      ],
      "metadata": {
        "colab": {
          "base_uri": "https://localhost:8080/"
        },
        "id": "wwcXo8-deIdS",
        "outputId": "693dab30-02ad-4460-e804-58a7a253dc97"
      },
      "execution_count": null,
      "outputs": [
        {
          "output_type": "stream",
          "name": "stdout",
          "text": [
            "Epoch 1/10\n",
            "1563/1563 [==============================] - 62s 39ms/step - loss: 1.5271 - accuracy: 0.4437 - val_loss: 1.2784 - val_accuracy: 0.5326\n",
            "Epoch 2/10\n",
            "1563/1563 [==============================] - 60s 38ms/step - loss: 1.1744 - accuracy: 0.5823 - val_loss: 1.1112 - val_accuracy: 0.6069\n",
            "Epoch 3/10\n",
            "1563/1563 [==============================] - 59s 37ms/step - loss: 1.0173 - accuracy: 0.6416 - val_loss: 1.0007 - val_accuracy: 0.6426\n",
            "Epoch 4/10\n",
            "1563/1563 [==============================] - 60s 39ms/step - loss: 0.9108 - accuracy: 0.6802 - val_loss: 0.9331 - val_accuracy: 0.6780\n",
            "Epoch 5/10\n",
            "1563/1563 [==============================] - 61s 39ms/step - loss: 0.8419 - accuracy: 0.7067 - val_loss: 0.8976 - val_accuracy: 0.6914\n",
            "Epoch 6/10\n",
            "1563/1563 [==============================] - 59s 38ms/step - loss: 0.7817 - accuracy: 0.7261 - val_loss: 0.8624 - val_accuracy: 0.7001\n",
            "Epoch 7/10\n",
            "1563/1563 [==============================] - 60s 39ms/step - loss: 0.7256 - accuracy: 0.7455 - val_loss: 0.8463 - val_accuracy: 0.7076\n",
            "Epoch 8/10\n",
            "1563/1563 [==============================] - 63s 40ms/step - loss: 0.6808 - accuracy: 0.7620 - val_loss: 0.8549 - val_accuracy: 0.7149\n",
            "Epoch 9/10\n",
            "1563/1563 [==============================] - 60s 38ms/step - loss: 0.6405 - accuracy: 0.7753 - val_loss: 0.8575 - val_accuracy: 0.7131\n",
            "Epoch 10/10\n",
            "1563/1563 [==============================] - 61s 39ms/step - loss: 0.6022 - accuracy: 0.7882 - val_loss: 0.8509 - val_accuracy: 0.7196\n"
          ]
        }
      ]
    },
    {
      "cell_type": "markdown",
      "source": [
        "Model evaluation"
      ],
      "metadata": {
        "id": "B26jttWJg9sd"
      }
    },
    {
      "cell_type": "code",
      "source": [
        "plt.plot(history.history['accuracy'], label='accuracy')\n",
        "plt.plot(history.history['val_accuracy'], label = 'val_accuracy')\n",
        "plt.xlabel('Epoch')\n",
        "plt.ylabel('Accuracy')\n",
        "plt.ylim([0.5, 1])\n",
        "plt.legend(loc='lower right')\n",
        "\n",
        "test_loss, test_acc = model.evaluate(test_images,  test_labels, verbose=2)"
      ],
      "metadata": {
        "colab": {
          "base_uri": "https://localhost:8080/",
          "height": 472
        },
        "id": "cYokMI47eM1q",
        "outputId": "e5585e9a-dad3-4ac4-8b5a-073496cd06ca"
      },
      "execution_count": null,
      "outputs": [
        {
          "output_type": "stream",
          "name": "stdout",
          "text": [
            "313/313 - 7s - loss: 0.8509 - accuracy: 0.7196 - 7s/epoch - 23ms/step\n"
          ]
        },
        {
          "output_type": "display_data",
          "data": {
            "text/plain": [
              "<Figure size 640x480 with 1 Axes>"
            ],
            "image/png": "[encoded data removed]"
          },
          "metadata": {}
        }
      ]
    },
    {
      "cell_type": "code",
      "source": [
        "print(test_acc)"
      ],
      "metadata": {
        "id": "_4lTE_JyhDMH"
      },
      "execution_count": null,
      "outputs": []
    },
    {
      "cell_type": "markdown",
      "source": [
        "Image classification"
      ],
      "metadata": {
        "id": "AHISru14hJQI"
      }
    },
    {
      "cell_type": "code",
      "source": [
        "from tensorflow.keras.preprocessing import image\n",
        "import numpy as np\n",
        "\n",
        "# Load and preprocess the image\n",
        "img_path = '/content/airplane.png'\n",
        "img = image.load_img(img_path, target_size=(32, 32))\n",
        "img = image.img_to_array(img)\n",
        "img = np.expand_dims(img, axis=0)\n",
        "img = img / 255.0\n",
        "\n",
        "predictions = model.predict(img)\n",
        "predicted_class = np.argmax(predictions)\n"
      ],
      "metadata": {
        "colab": {
          "base_uri": "https://localhost:8080/"
        },
        "id": "JuzVkKFohGHJ",
        "outputId": "e2db34f4-f67b-40bf-af02-1237dff4b363"
      },
      "execution_count": null,
      "outputs": [
        {
          "output_type": "stream",
          "name": "stdout",
          "text": [
            "1/1 [==============================] - 0s 108ms/step\n"
          ]
        }
      ]
    },
    {
      "cell_type": "code",
      "source": [
        "predicted_label = class_names[predicted_class]\n",
        "print(predicted_label)"
      ],
      "metadata": {
        "colab": {
          "base_uri": "https://localhost:8080/"
        },
        "id": "SJQERp9WhNkl",
        "outputId": "362a56b5-8046-4af5-fc8a-adb6ced92115"
      },
      "execution_count": null,
      "outputs": [
        {
          "output_type": "stream",
          "name": "stdout",
          "text": [
            "airplane\n"
          ]
        }
      ]
    }
  ]
}